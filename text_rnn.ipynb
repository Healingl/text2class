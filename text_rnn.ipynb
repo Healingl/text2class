{
 "cells": [
  {
   "cell_type": "code",
   "execution_count": 1,
   "metadata": {
    "collapsed": false
   },
   "outputs": [
    {
     "name": "stderr",
     "output_type": "stream",
     "text": [
      "Using TensorFlow backend.\n"
     ]
    }
   ],
   "source": [
    "import numpy as np\n",
    "\n",
    "from nn import NN\n",
    "from corpus import Corpus\n",
    "\n",
    "from keras.models import Model\n",
    "from keras.optimizers import *  \n",
    "from keras.layers import Dense, Input, Concatenate, Dropout \n",
    "from keras.layers import Embedding, LSTM\n"
   ]
  },
  {
   "cell_type": "code",
   "execution_count": null,
   "metadata": {
    "collapsed": true
   },
   "outputs": [],
   "source": [
    "class TextRNN(NN):\n",
    "    '''\n",
    "    A simple TextRNN inplemetation in keras\n",
    "    Embedding->Bi-LSTM->Dropout(0.5)->Dense(sigmoid|softmax)\n",
    "    '''\n",
    "    def __init__(self,\n",
    "\n",
    "    def compile(self):\n",
    "        # define Embedding\n",
    "        if not type(self.embedding_matrix) == np.ndarray: #not use pretrained word vectors\n",
    "            embedding_layer = Embedding(self.vocab_size+1,\n",
    "                                        self.embedding_dim,\n",
    "                                        input_length=self.input_length\n",
    "                                        )\n",
    "        else:\n",
    "            embedding_layer = Embedding(self.embedding_matrix.shape[0]+1,\n",
    "                                        self.embedding_matrix.shape[1],\n",
    "                                        weights=[self.embedding_matrix],\n",
    "                                        input_length=self.input_length,\n",
    "                                        trainable=self.trainable\n",
    "                                        )\n",
    "            self.embedding_dim = self.embedding_matrix.shape[1]\n",
    "        #convert Input(a list of word ids) to Embedding (input_length * embedding_size)\n",
    "        Input_ = Input(shape=(self.input_length,),dtype='int32')\n",
    "        embedding_layer_ = embedding_layer(Input_)\n",
    "        # Bi-LSTM - Dropout\n",
    "        Bidirectional_ = Bidirectional(LSTM(self.input_length, return_sequences=True,stateful=False),\n",
    "                                       input_shape=(self.input_length, self.embedding_dim)\n",
    "                                      )\n",
    "                                       (embedding_layer_) #(*,input_length,embedding_dim)->(*,input_length)\n",
    "        Dropout_ = Dropout(0.5)(Bidirectional_)\n",
    "        if self.num_classes < 3 :\n",
    "            labels = Dense(1, activation='sigmoid')(Dropout_)\n",
    "            self.model = Model(inputs=Input_,outputs=labels)\n",
    "            self.model.compile(loss='binary_crossentropy', \n",
    "                          optimizer=self.optimizer,\n",
    "                          metrics=['acc'])\n",
    "        else:\n",
    "            labels = Dense(self.num_classes,activation='softmax')(Dropout_)\n",
    "            self.model = Model(inputs=Input_,outputs=labels)\n",
    "            self.model.compile(loss='categorical_crossentropy', \n",
    "                          optimizer=self.optimizer,\n",
    "                          metrics=['acc'])  "
   ]
  },
  {
   "cell_type": "code",
   "execution_count": 2,
   "metadata": {
    "collapsed": true
   },
   "outputs": [],
   "source": [
    "from keras.layers import Bidirectional"
   ]
  },
  {
   "cell_type": "code",
   "execution_count": 102,
   "metadata": {
    "collapsed": false
   },
   "outputs": [],
   "source": [
    "model = Sequential()\n",
    "model.add(Bidirectional(LSTM(108, return_sequences=False), merge_mode='sum',input_shape=(108, 200)))\n",
    "#model.add(LSTM(108,input_shape=(108, 200)))\n",
    "model.add(Dense(10,activation='softmax'))\n",
    "model.compile(loss='categorical_crossentropy', optimizer='rmsprop')"
   ]
  },
  {
   "cell_type": "code",
   "execution_count": 103,
   "metadata": {
    "collapsed": false
   },
   "outputs": [
    {
     "name": "stdout",
     "output_type": "stream",
     "text": [
      "_________________________________________________________________\n",
      "Layer (type)                 Output Shape              Param #   \n",
      "=================================================================\n",
      "bidirectional_17 (Bidirectio (None, 108)               266976    \n",
      "_________________________________________________________________\n",
      "dense_17 (Dense)             (None, 10)                1090      \n",
      "=================================================================\n",
      "Total params: 268,066\n",
      "Trainable params: 268,066\n",
      "Non-trainable params: 0\n",
      "_________________________________________________________________\n"
     ]
    }
   ],
   "source": [
    "model.summary()"
   ]
  },
  {
   "cell_type": "code",
   "execution_count": 85,
   "metadata": {
    "collapsed": true
   },
   "outputs": [],
   "source": [
    "LSTM?"
   ]
  },
  {
   "cell_type": "code",
   "execution_count": null,
   "metadata": {
    "collapsed": true
   },
   "outputs": [],
   "source": []
  }
 ],
 "metadata": {
  "anaconda-cloud": {},
  "kernelspec": {
   "display_name": "Python [conda env:python35]",
   "language": "python",
   "name": "conda-env-python35-py"
  },
  "language_info": {
   "codemirror_mode": {
    "name": "ipython",
    "version": 3
   },
   "file_extension": ".py",
   "mimetype": "text/x-python",
   "name": "python",
   "nbconvert_exporter": "python",
   "pygments_lexer": "ipython3",
   "version": "3.5.3"
  }
 },
 "nbformat": 4,
 "nbformat_minor": 1
}
